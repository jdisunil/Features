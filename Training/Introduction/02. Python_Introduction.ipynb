{
 "cells": [
  {
   "cell_type": "markdown",
   "metadata": {},
   "source": [
    "    Why we use OS and Programming Language? \n",
    "    High Level vs Low Level Programming Language \n",
    "    Why are we Learning Python?\n",
    "    Compiler vs Interpreter\n",
    "    Compiled vs Interpreted Languages\n",
    "    Different Types of Errors in Python\n",
    "    Compile time vs Run time Errors in Python \n",
    "    Source code, Byte code, Machine code\n",
    "    How a Python Program runs on our system."
   ]
  },
  {
   "cell_type": "code",
   "execution_count": null,
   "metadata": {},
   "outputs": [],
   "source": [
    "# Features of Python\n",
    "1. Python is simple, easy to learn and expressive Language\n",
    "2. Python is dynamically typed Programming Language.\n",
    "3. Python is Free & Open Source.\n",
    "4. Python is Portable and Platform independent.\n",
    "5. Python is extensible and embedded."
   ]
  },
  {
   "cell_type": "code",
   "execution_count": null,
   "metadata": {},
   "outputs": [],
   "source": [
    "# Portable - if Source code is movable from one platform to another\n",
    "# Platform Independent - if Byte code is movable from one platform to another\n",
    "# Extensible - Code written in other PLs canbe used in Python\n",
    "# Embedded - Code written in Python can be used in other PLs"
   ]
  },
  {
   "cell_type": "code",
   "execution_count": 1,
   "metadata": {
    "ExecuteTime": {
     "end_time": "2020-11-08T07:28:32.410384Z",
     "start_time": "2020-11-08T07:28:32.403439Z"
    }
   },
   "outputs": [],
   "source": [
    "#define PY_SSIZE_T_CLEAN\n",
    "#include <Python.h>\n",
    "\n",
    "# int\n",
    "# main(int argc, char *argv[])\n",
    "# {\n",
    "#     PyObject *pName, *pModule, *pFunc;\n",
    "#     PyObject *pArgs, *pValue;\n",
    "#     int i;\n",
    "\n",
    "#     if (argc < 3) {\n",
    "#         fprintf(stderr,\"Usage: call pythonfile funcname [args]\\n\");\n",
    "#         return 1;\n",
    "#     }\n",
    "\n",
    "#     Py_Initialize();\n",
    "#     pName = PyUnicode_DecodeFSDefault(argv[1]);\n",
    "#     /* Error checking of pName left out */\n",
    "\n",
    "#     pModule = PyImport_Import(pName);\n",
    "#     Py_DECREF(pName);\n",
    "\n",
    "#     if (pModule != NULL) {\n",
    "#         pFunc = PyObject_GetAttrString(pModule, argv[2]);\n",
    "#         /* pFunc is a new reference */\n",
    "\n",
    "#         if (pFunc && PyCallable_Check(pFunc)) {\n",
    "#             pArgs = PyTuple_New(argc - 3);\n",
    "#             for (i = 0; i < argc - 3; ++i) {\n",
    "#                 pValue = PyLong_FromLong(atoi(argv[i + 3]));\n",
    "#                 if (!pValue) {\n",
    "#                     Py_DECREF(pArgs);\n",
    "#                     Py_DECREF(pModule);\n",
    "#                     fprintf(stderr, \"Cannot convert argument\\n\");\n",
    "#                     return 1;\n",
    "#                 }\n",
    "#                 /* pValue reference stolen here: */\n",
    "#                 PyTuple_SetItem(pArgs, i, pValue);\n",
    "#             }\n",
    "#             pValue = PyObject_CallObject(pFunc, pArgs);\n",
    "#             Py_DECREF(pArgs);\n",
    "#             if (pValue != NULL) {\n",
    "#                 printf(\"Result of call: %ld\\n\", PyLong_AsLong(pValue));\n",
    "#                 Py_DECREF(pValue);\n",
    "#             }\n",
    "#             else {\n",
    "#                 Py_DECREF(pFunc);\n",
    "#                 Py_DECREF(pModule);\n",
    "#                 PyErr_Print();\n",
    "#                 fprintf(stderr,\"Call failed\\n\");\n",
    "#                 return 1;\n",
    "#             }\n",
    "#         }\n",
    "#         else {\n",
    "#             if (PyErr_Occurred())\n",
    "#                 PyErr_Print();\n",
    "#             fprintf(stderr, \"Cannot find function \\\"%s\\\"\\n\", argv[2]);\n",
    "#         }\n",
    "#         Py_XDECREF(pFunc);\n",
    "#         Py_DECREF(pModule);\n",
    "#     }\n",
    "#     else {\n",
    "#         PyErr_Print();\n",
    "#         fprintf(stderr, \"Failed to load \\\"%s\\\"\\n\", argv[1]);\n",
    "#         return 1;\n",
    "#     }\n",
    "#     if (Py_FinalizeEx() < 0) {\n",
    "#         return 120;\n",
    "#     }\n",
    "#     return 0;\n",
    "# }\n",
    "# This code loads a Python script using argv[1], and calls the function named in argv[2]. Its integer arguments are the other values of the argv array. If you compile and link this program (let’s call the finished executable call), and use it to execute a Python script, such as:\n",
    "\n",
    "# def multiply(a,b):\n",
    "#     print(\"Will compute\", a, \"times\", b)\n",
    "#     c = 0\n",
    "#     for i in range(0, a):\n",
    "#         c = c + b\n",
    "#     return c\n",
    "# then the result should be:\n",
    "\n",
    "# $ call multiply multiply 3 2\n",
    "# Will compute 3 times 2\n",
    "# Result of call: 6\n",
    "# Although the program is quite large for its functionality, most of the code is for data conversion between Python and C, and for error reporting. The interesting part with respect to embedding Python starts with\n",
    "\n",
    "# Py_Initialize();\n",
    "# pName = PyUnicode_DecodeFSDefault(argv[1]);\n",
    "# /* Error checking of pName left out */\n",
    "# pModule = PyImport_Import(pName);"
   ]
  },
  {
   "cell_type": "code",
   "execution_count": null,
   "metadata": {},
   "outputs": [],
   "source": [
    "# Areas of Application\n",
    "# 1. Desktop\n",
    "# 2. Web\n",
    "# 3. Database\n",
    "# 4. Data Analysis\n",
    "# 5. Emended and Iot Application\n",
    "# 6. ML and AI"
   ]
  },
  {
   "cell_type": "code",
   "execution_count": null,
   "metadata": {},
   "outputs": [],
   "source": [
    "# Drawbacks\n",
    "# 1. Performance\n",
    "# 2. Mobile Application"
   ]
  },
  {
   "cell_type": "code",
   "execution_count": null,
   "metadata": {},
   "outputs": [],
   "source": [
    "# Translators\n",
    "    Compiler - Takes source code at once and translates it to byte code\n",
    "    Interpreter - takes one instruction at a time from byte code and translates to machine code which gives output"
   ]
  },
  {
   "cell_type": "code",
   "execution_count": null,
   "metadata": {},
   "outputs": [],
   "source": [
    "Type Errors\n",
    "    Compile time error - Syantx Error, Indentation Error etc - Compilation\n",
    "    Run time Error - NameError, Value Error, Type Error etc - Interpretation"
   ]
  },
  {
   "cell_type": "code",
   "execution_count": null,
   "metadata": {},
   "outputs": [],
   "source": [
    "# Compilation\n",
    "    If there is any Compile time Error then byte code will not be generated\n",
    "    If there is no compile time error the byte code will be generated irrespective of Run time Error.\n",
    "    \n",
    "# Interpretattion\n",
    "    If there is no Run time error then code will be interpreted and executed\n",
    "    If there is Some run time Error then code will be executed partially"
   ]
  },
  {
   "cell_type": "code",
   "execution_count": 7,
   "metadata": {
    "ExecuteTime": {
     "end_time": "2020-11-08T07:54:44.872223Z",
     "start_time": "2020-11-08T07:54:44.866167Z"
    }
   },
   "outputs": [
    {
     "name": "stdout",
     "output_type": "stream",
     "text": [
      "30\n",
      "20\n"
     ]
    }
   ],
   "source": [
    "a = 10\n",
    "b = 20\n",
    "c = a+b\n",
    "print(c)\n",
    "print(b)\n"
   ]
  },
  {
   "cell_type": "code",
   "execution_count": 8,
   "metadata": {
    "ExecuteTime": {
     "end_time": "2020-11-08T07:49:38.946952Z",
     "start_time": "2020-11-08T07:49:38.777517Z"
    }
   },
   "outputs": [
    {
     "ename": "NameError",
     "evalue": "name 'x' is not defined",
     "output_type": "error",
     "traceback": [
      "\u001b[1;31m---------------------------------------------------------------------------\u001b[0m",
      "\u001b[1;31mNameError\u001b[0m                                 Traceback (most recent call last)",
      "\u001b[1;32m<ipython-input-8-fc17d851ef81>\u001b[0m in \u001b[0;36m<module>\u001b[1;34m\u001b[0m\n\u001b[1;32m----> 1\u001b[1;33m \u001b[0mprint\u001b[0m\u001b[1;33m(\u001b[0m\u001b[0mx\u001b[0m\u001b[1;33m)\u001b[0m\u001b[1;33m\u001b[0m\u001b[1;33m\u001b[0m\u001b[0m\n\u001b[0m",
      "\u001b[1;31mNameError\u001b[0m: name 'x' is not defined"
     ]
    }
   ],
   "source": [
    "print(x)"
   ]
  },
  {
   "cell_type": "code",
   "execution_count": 14,
   "metadata": {
    "ExecuteTime": {
     "end_time": "2020-11-08T07:55:34.968893Z",
     "start_time": "2020-11-08T07:55:34.955096Z"
    }
   },
   "outputs": [
    {
     "name": "stdout",
     "output_type": "stream",
     "text": [
      "10\n"
     ]
    },
    {
     "ename": "TypeError",
     "evalue": "unsupported operand type(s) for +: 'int' and 'str'",
     "output_type": "error",
     "traceback": [
      "\u001b[0;31m---------------------------------------------------------------------------\u001b[0m",
      "\u001b[0;31mTypeError\u001b[0m                                 Traceback (most recent call last)",
      "\u001b[0;32m<ipython-input-14-fb1d1f4b7d6c>\u001b[0m in \u001b[0;36m<module>\u001b[0;34m\u001b[0m\n\u001b[1;32m      1\u001b[0m \u001b[0mprint\u001b[0m\u001b[0;34m(\u001b[0m\u001b[0ma\u001b[0m\u001b[0;34m)\u001b[0m\u001b[0;34m\u001b[0m\u001b[0;34m\u001b[0m\u001b[0m\n\u001b[0;32m----> 2\u001b[0;31m \u001b[0;36m1\u001b[0m \u001b[0;34m+\u001b[0m \u001b[0;34m'A'\u001b[0m\u001b[0;34m\u001b[0m\u001b[0;34m\u001b[0m\u001b[0m\n\u001b[0m",
      "\u001b[0;31mTypeError\u001b[0m: unsupported operand type(s) for +: 'int' and 'str'"
     ]
    }
   ],
   "source": [
    "print(a)\n",
    "1 + 'A'"
   ]
  },
  {
   "cell_type": "code",
   "execution_count": 11,
   "metadata": {
    "ExecuteTime": {
     "end_time": "2020-11-08T07:55:18.401273Z",
     "start_time": "2020-11-08T07:55:18.385622Z"
    }
   },
   "outputs": [
    {
     "data": {
      "text/plain": [
       "10.2"
      ]
     },
     "execution_count": 11,
     "metadata": {},
     "output_type": "execute_result"
    }
   ],
   "source": [
    "eval('10.20')"
   ]
  },
  {
   "cell_type": "markdown",
   "metadata": {},
   "source": [
    "    Memory Management in Python\n",
    "    Raw Memory Allocator, Object Specific Allocator \n",
    "    Python Virtual Machine & Interpreter\n",
    "    Memory deallocation in Python\n",
    "    Automatic garbage collection in Python \n",
    "    Memory management visualisation\n",
    "    Input and Output functions in Python\n",
    "    Python programming components\n",
    "    Literal, constant, variables, identifiers, Reserved Words, Expression Statements\n",
    "    Blocks and Indentation in Python\n",
    "    Comments in Python"
   ]
  },
  {
   "cell_type": "code",
   "execution_count": 5,
   "metadata": {
    "ExecuteTime": {
     "end_time": "2020-11-08T08:40:34.162155Z",
     "start_time": "2020-11-08T08:40:34.146865Z"
    }
   },
   "outputs": [
    {
     "name": "stdout",
     "output_type": "stream",
     "text": [
      "30\n"
     ]
    },
    {
     "ename": "NameError",
     "evalue": "name 'd' is not defined",
     "output_type": "error",
     "traceback": [
      "\u001b[1;31m---------------------------------------------------------------------------\u001b[0m",
      "\u001b[1;31mNameError\u001b[0m                                 Traceback (most recent call last)",
      "\u001b[1;32m<ipython-input-5-268fa0e68b0e>\u001b[0m in \u001b[0;36m<module>\u001b[1;34m\u001b[0m\n\u001b[0;32m      3\u001b[0m \u001b[0mc\u001b[0m \u001b[1;33m=\u001b[0m \u001b[0ma\u001b[0m\u001b[1;33m+\u001b[0m\u001b[0mb\u001b[0m\u001b[1;33m\u001b[0m\u001b[1;33m\u001b[0m\u001b[0m\n\u001b[0;32m      4\u001b[0m \u001b[0mprint\u001b[0m\u001b[1;33m(\u001b[0m\u001b[0mc\u001b[0m\u001b[1;33m)\u001b[0m\u001b[1;33m\u001b[0m\u001b[1;33m\u001b[0m\u001b[0m\n\u001b[1;32m----> 5\u001b[1;33m \u001b[0mprint\u001b[0m\u001b[1;33m(\u001b[0m\u001b[0md\u001b[0m\u001b[1;33m)\u001b[0m\u001b[1;33m\u001b[0m\u001b[1;33m\u001b[0m\u001b[0m\n\u001b[0m",
      "\u001b[1;31mNameError\u001b[0m: name 'd' is not defined"
     ]
    }
   ],
   "source": [
    "a = 10\n",
    "b = 20\n",
    "c = a+b\n",
    "print(c)\n",
    "print(d)"
   ]
  },
  {
   "cell_type": "code",
   "execution_count": null,
   "metadata": {},
   "outputs": [],
   "source": [
    "float, if, elif, else, def, class"
   ]
  },
  {
   "cell_type": "code",
   "execution_count": 2,
   "metadata": {
    "ExecuteTime": {
     "end_time": "2020-11-08T09:01:26.262597Z",
     "start_time": "2020-11-08T09:01:26.256314Z"
    }
   },
   "outputs": [
    {
     "name": "stdout",
     "output_type": "stream",
     "text": [
      "['ArithmeticError', 'AssertionError', 'AttributeError', 'BaseException', 'BlockingIOError', 'BrokenPipeError', 'BufferError', 'BytesWarning', 'ChildProcessError', 'ConnectionAbortedError', 'ConnectionError', 'ConnectionRefusedError', 'ConnectionResetError', 'DeprecationWarning', 'EOFError', 'Ellipsis', 'EnvironmentError', 'Exception', 'False', 'FileExistsError', 'FileNotFoundError', 'FloatingPointError', 'FutureWarning', 'GeneratorExit', 'IOError', 'ImportError', 'ImportWarning', 'IndentationError', 'IndexError', 'InterruptedError', 'IsADirectoryError', 'KeyError', 'KeyboardInterrupt', 'LookupError', 'MemoryError', 'ModuleNotFoundError', 'NameError', 'None', 'NotADirectoryError', 'NotImplemented', 'NotImplementedError', 'OSError', 'OverflowError', 'PendingDeprecationWarning', 'PermissionError', 'ProcessLookupError', 'RecursionError', 'ReferenceError', 'ResourceWarning', 'RuntimeError', 'RuntimeWarning', 'StopAsyncIteration', 'StopIteration', 'SyntaxError', 'SyntaxWarning', 'SystemError', 'SystemExit', 'TabError', 'TimeoutError', 'True', 'TypeError', 'UnboundLocalError', 'UnicodeDecodeError', 'UnicodeEncodeError', 'UnicodeError', 'UnicodeTranslateError', 'UnicodeWarning', 'UserWarning', 'ValueError', 'Warning', 'ZeroDivisionError', '__IPYTHON__', '__build_class__', '__debug__', '__doc__', '__import__', '__loader__', '__name__', '__package__', '__spec__', 'abs', 'all', 'any', 'ascii', 'bin', 'bool', 'breakpoint', 'bytearray', 'bytes', 'callable', 'chr', 'classmethod', 'compile', 'complex', 'copyright', 'credits', 'delattr', 'dict', 'dir', 'display', 'divmod', 'enumerate', 'eval', 'exec', 'filter', 'float', 'format', 'frozenset', 'get_ipython', 'getattr', 'globals', 'hasattr', 'hash', 'help', 'hex', 'id', 'input', 'int', 'isinstance', 'issubclass', 'iter', 'len', 'license', 'list', 'locals', 'map', 'max', 'memoryview', 'min', 'next', 'object', 'oct', 'open', 'ord', 'pow', 'print', 'property', 'range', 'repr', 'reversed', 'round', 'set', 'setattr', 'slice', 'sorted', 'staticmethod', 'str', 'sum', 'super', 'tuple', 'type', 'vars', 'zip']\n"
     ]
    }
   ],
   "source": [
    "print(dir(__builtins__))"
   ]
  },
  {
   "cell_type": "code",
   "execution_count": 5,
   "metadata": {
    "ExecuteTime": {
     "end_time": "2020-11-08T09:42:14.881437Z",
     "start_time": "2020-11-08T09:42:12.413840Z"
    }
   },
   "outputs": [
    {
     "name": "stdout",
     "output_type": "stream",
     "text": [
      "Enter 1st Number: 10\n",
      "Enter 2nd Number: 20\n",
      "<class 'int'> <class 'int'>\n",
      "30\n"
     ]
    }
   ],
   "source": [
    "# Input and Output function in Python\n",
    "\n",
    "a = int(input('Enter 1st Number: '))\n",
    "b = int(input('Enter 2nd Number: '))\n",
    "print(type(a), type(b))\n",
    "c = a+b\n",
    "print(c)\n",
    "\n",
    "\n"
   ]
  },
  {
   "cell_type": "code",
   "execution_count": 6,
   "metadata": {
    "ExecuteTime": {
     "end_time": "2020-11-08T09:43:04.065539Z",
     "start_time": "2020-11-08T09:43:00.354871Z"
    }
   },
   "outputs": [
    {
     "name": "stdout",
     "output_type": "stream",
     "text": [
      "Enter 1st Number: 10.20\n",
      "Enter 2nd Number: 20.30\n",
      "<class 'float'> <class 'float'>\n",
      "30.5\n"
     ]
    }
   ],
   "source": [
    "a = float(input('Enter 1st Number: '))\n",
    "b = float(input('Enter 2nd Number: '))\n",
    "\n",
    "print(type(a), type(b))\n",
    "c = a+b\n",
    "print(c)"
   ]
  },
  {
   "cell_type": "code",
   "execution_count": 13,
   "metadata": {
    "ExecuteTime": {
     "end_time": "2020-11-08T09:47:44.848915Z",
     "start_time": "2020-11-08T09:47:40.866862Z"
    }
   },
   "outputs": [
    {
     "name": "stdout",
     "output_type": "stream",
     "text": [
      "Enter 1st Number: [10,20,30]\n",
      "<class 'list'> [10, 20, 30]\n"
     ]
    }
   ],
   "source": [
    "a = eval(input('Enter 1st Number: '))\n",
    "\n",
    "print(type(a),a)\n"
   ]
  },
  {
   "cell_type": "code",
   "execution_count": 7,
   "metadata": {
    "ExecuteTime": {
     "end_time": "2020-11-08T09:43:47.475613Z",
     "start_time": "2020-11-08T09:43:47.466220Z"
    }
   },
   "outputs": [
    {
     "name": "stdout",
     "output_type": "stream",
     "text": [
      "[10, 20.3, (30+40j)] <class 'list'>\n"
     ]
    }
   ],
   "source": [
    "lst = [10,20.30,30+40j]\n",
    "print(lst, type(lst))"
   ]
  },
  {
   "cell_type": "code",
   "execution_count": 8,
   "metadata": {
    "ExecuteTime": {
     "end_time": "2020-11-08T09:45:25.081818Z",
     "start_time": "2020-11-08T09:45:25.067061Z"
    }
   },
   "outputs": [
    {
     "data": {
      "text/plain": [
       "['P', 'y', 't', 'h', 'o', 'n']"
      ]
     },
     "execution_count": 8,
     "metadata": {},
     "output_type": "execute_result"
    }
   ],
   "source": [
    "list('Python')"
   ]
  },
  {
   "cell_type": "code",
   "execution_count": 9,
   "metadata": {
    "ExecuteTime": {
     "end_time": "2020-11-08T09:45:45.586226Z",
     "start_time": "2020-11-08T09:45:45.575283Z"
    }
   },
   "outputs": [
    {
     "data": {
      "text/plain": [
       "[10, 20, 30]"
      ]
     },
     "execution_count": 9,
     "metadata": {},
     "output_type": "execute_result"
    }
   ],
   "source": [
    "list((10,20,30))"
   ]
  },
  {
   "cell_type": "code",
   "execution_count": 11,
   "metadata": {
    "ExecuteTime": {
     "end_time": "2020-11-08T09:46:12.589764Z",
     "start_time": "2020-11-08T09:46:12.579886Z"
    }
   },
   "outputs": [
    {
     "data": {
      "text/plain": [
       "['[', '1', '9', ',', '2', '0', ',', '3', '0', ']']"
      ]
     },
     "execution_count": 11,
     "metadata": {},
     "output_type": "execute_result"
    }
   ],
   "source": [
    "list('[19,20,30]')"
   ]
  },
  {
   "cell_type": "code",
   "execution_count": 16,
   "metadata": {
    "ExecuteTime": {
     "end_time": "2020-11-08T09:48:32.331392Z",
     "start_time": "2020-11-08T09:48:32.322424Z"
    }
   },
   "outputs": [
    {
     "data": {
      "text/plain": [
       "30"
      ]
     },
     "execution_count": 16,
     "metadata": {},
     "output_type": "execute_result"
    }
   ],
   "source": [
    "eval('10+20')"
   ]
  },
  {
   "cell_type": "code",
   "execution_count": 14,
   "metadata": {
    "ExecuteTime": {
     "end_time": "2020-11-08T09:48:10.279200Z",
     "start_time": "2020-11-08T09:48:10.271387Z"
    }
   },
   "outputs": [
    {
     "name": "stdout",
     "output_type": "stream",
     "text": [
      "30\n"
     ]
    }
   ],
   "source": [
    "print(10+20)"
   ]
  },
  {
   "cell_type": "code",
   "execution_count": 15,
   "metadata": {
    "ExecuteTime": {
     "end_time": "2020-11-08T09:48:13.814581Z",
     "start_time": "2020-11-08T09:48:13.802457Z"
    }
   },
   "outputs": [
    {
     "name": "stdout",
     "output_type": "stream",
     "text": [
      "10\n"
     ]
    }
   ],
   "source": [
    "print(10)"
   ]
  },
  {
   "cell_type": "code",
   "execution_count": 17,
   "metadata": {
    "ExecuteTime": {
     "end_time": "2020-11-08T09:49:06.782114Z",
     "start_time": "2020-11-08T09:49:06.764386Z"
    }
   },
   "outputs": [
    {
     "data": {
      "text/plain": [
       "[10, 20, 30]"
      ]
     },
     "execution_count": 17,
     "metadata": {},
     "output_type": "execute_result"
    }
   ],
   "source": [
    "eval('[10,20,30]')"
   ]
  },
  {
   "cell_type": "code",
   "execution_count": 18,
   "metadata": {
    "ExecuteTime": {
     "end_time": "2020-11-08T09:49:27.983760Z",
     "start_time": "2020-11-08T09:49:27.971730Z"
    }
   },
   "outputs": [
    {
     "name": "stdout",
     "output_type": "stream",
     "text": [
      "10.2 <class 'float'>\n"
     ]
    }
   ],
   "source": [
    "a = eval('10.20')\n",
    "print(a, type(a))"
   ]
  },
  {
   "cell_type": "code",
   "execution_count": 21,
   "metadata": {
    "ExecuteTime": {
     "end_time": "2020-11-08T09:51:47.503612Z",
     "start_time": "2020-11-08T09:51:39.704434Z"
    }
   },
   "outputs": [
    {
     "name": "stdout",
     "output_type": "stream",
     "text": [
      "Enter your salary: '19000'\n",
      "19000 <class 'str'>\n"
     ]
    }
   ],
   "source": [
    "sal = eval(input('Enter your salary: '))\n",
    "print(sal, type(sal))"
   ]
  },
  {
   "cell_type": "code",
   "execution_count": null,
   "metadata": {},
   "outputs": [],
   "source": [
    "sal = int(input('Enter your salary: '))\n",
    "print(sal)"
   ]
  },
  {
   "cell_type": "code",
   "execution_count": 26,
   "metadata": {
    "ExecuteTime": {
     "end_time": "2020-11-08T09:55:39.722990Z",
     "start_time": "2020-11-08T09:55:39.667905Z"
    }
   },
   "outputs": [
    {
     "ename": "ValueError",
     "evalue": "invalid literal for int() with base 10: '10.20'",
     "output_type": "error",
     "traceback": [
      "\u001b[0;31m---------------------------------------------------------------------------\u001b[0m",
      "\u001b[0;31mValueError\u001b[0m                                Traceback (most recent call last)",
      "\u001b[0;32m<ipython-input-26-7dea21365a1a>\u001b[0m in \u001b[0;36m<module>\u001b[0;34m\u001b[0m\n\u001b[1;32m      2\u001b[0m \u001b[0mint\u001b[0m\u001b[0;34m(\u001b[0m\u001b[0;36m20\u001b[0m\u001b[0;34m)\u001b[0m\u001b[0;34m\u001b[0m\u001b[0;34m\u001b[0m\u001b[0m\n\u001b[1;32m      3\u001b[0m \u001b[0mint\u001b[0m\u001b[0;34m(\u001b[0m\u001b[0;36m10.20\u001b[0m\u001b[0;34m)\u001b[0m\u001b[0;34m\u001b[0m\u001b[0;34m\u001b[0m\u001b[0m\n\u001b[0;32m----> 4\u001b[0;31m \u001b[0mprint\u001b[0m\u001b[0;34m(\u001b[0m\u001b[0mint\u001b[0m\u001b[0;34m(\u001b[0m\u001b[0;34m'10.20'\u001b[0m\u001b[0;34m)\u001b[0m\u001b[0;34m)\u001b[0m\u001b[0;34m\u001b[0m\u001b[0;34m\u001b[0m\u001b[0m\n\u001b[0m",
      "\u001b[0;31mValueError\u001b[0m: invalid literal for int() with base 10: '10.20'"
     ]
    }
   ],
   "source": [
    "int('10')\n",
    "int(20)\n",
    "int(10.20)\n",
    "print(int('10.20'))"
   ]
  },
  {
   "cell_type": "code",
   "execution_count": 27,
   "metadata": {
    "ExecuteTime": {
     "end_time": "2020-11-08T10:00:24.555307Z",
     "start_time": "2020-11-08T10:00:24.546802Z"
    }
   },
   "outputs": [
    {
     "name": "stdout",
     "output_type": "stream",
     "text": [
      "[10, 20, 30, 1, 2, 3]\n"
     ]
    }
   ],
   "source": [
    "# lst = [10,20,30]\n",
    "# lst1 = [1,2,3]\n",
    "# print(lst+lst1)"
   ]
  },
  {
   "cell_type": "code",
   "execution_count": 28,
   "metadata": {
    "ExecuteTime": {
     "end_time": "2020-11-08T10:00:56.896240Z",
     "start_time": "2020-11-08T10:00:56.881999Z"
    }
   },
   "outputs": [
    {
     "name": "stdout",
     "output_type": "stream",
     "text": [
      "[11 22 33]\n"
     ]
    }
   ],
   "source": [
    "# import numpy as np\n",
    "# arr = np.array(lst)\n",
    "# arr1 = np.array(lst1)\n",
    "# print(arr + arr1)"
   ]
  },
  {
   "cell_type": "markdown",
   "metadata": {},
   "source": [
    "# Print - function"
   ]
  },
  {
   "cell_type": "code",
   "execution_count": 29,
   "metadata": {
    "ExecuteTime": {
     "end_time": "2020-11-08T10:01:33.989770Z",
     "start_time": "2020-11-08T10:01:33.982241Z"
    }
   },
   "outputs": [
    {
     "name": "stdout",
     "output_type": "stream",
     "text": [
      "10\n"
     ]
    }
   ],
   "source": [
    "print(10)"
   ]
  },
  {
   "cell_type": "code",
   "execution_count": 31,
   "metadata": {
    "ExecuteTime": {
     "end_time": "2020-11-08T10:01:57.450101Z",
     "start_time": "2020-11-08T10:01:57.441036Z"
    }
   },
   "outputs": [
    {
     "name": "stdout",
     "output_type": "stream",
     "text": [
      "10 20 30\n"
     ]
    }
   ],
   "source": [
    "print(10,20,30, sep = ' ')"
   ]
  },
  {
   "cell_type": "code",
   "execution_count": 32,
   "metadata": {
    "ExecuteTime": {
     "end_time": "2020-11-08T10:02:09.945176Z",
     "start_time": "2020-11-08T10:02:09.937745Z"
    }
   },
   "outputs": [
    {
     "name": "stdout",
     "output_type": "stream",
     "text": [
      "10\n",
      "20\n",
      "30\n"
     ]
    }
   ],
   "source": [
    "print(10,20,30, sep = '\\n')"
   ]
  },
  {
   "cell_type": "code",
   "execution_count": 34,
   "metadata": {
    "ExecuteTime": {
     "end_time": "2020-11-08T10:02:51.081227Z",
     "start_time": "2020-11-08T10:02:51.069051Z"
    }
   },
   "outputs": [
    {
     "name": "stdout",
     "output_type": "stream",
     "text": [
      "10\n",
      "20\n",
      "30\n"
     ]
    }
   ],
   "source": [
    "print(10, end = '\\n')\n",
    "print(20, end = '\\n')\n",
    "print(30, end = '\\n')"
   ]
  },
  {
   "cell_type": "code",
   "execution_count": 35,
   "metadata": {
    "ExecuteTime": {
     "end_time": "2020-11-08T10:03:02.127055Z",
     "start_time": "2020-11-08T10:03:02.118083Z"
    }
   },
   "outputs": [
    {
     "name": "stdout",
     "output_type": "stream",
     "text": [
      "10 20 30 "
     ]
    }
   ],
   "source": [
    "print(10, end = ' ')\n",
    "print(20, end = ' ')\n",
    "print(30, end = ' ')"
   ]
  },
  {
   "cell_type": "markdown",
   "metadata": {},
   "source": [
    "# Output formattig"
   ]
  },
  {
   "cell_type": "code",
   "execution_count": 37,
   "metadata": {
    "ExecuteTime": {
     "end_time": "2020-11-08T10:06:12.384080Z",
     "start_time": "2020-11-08T10:06:10.200408Z"
    }
   },
   "outputs": [
    {
     "name": "stdout",
     "output_type": "stream",
     "text": [
      "Enter 1st Number: 10\n",
      "Enter 2nd Number: 20\n",
      "The sum of 10.0 and 20.0 is 30.0\n",
      "The sum of 10.0 and 20.0 is 30.0\n"
     ]
    }
   ],
   "source": [
    "a = float(input('Enter 1st Number: '))\n",
    "b = float(input('Enter 2nd Number: '))\n",
    "c = a+b\n",
    "print('The sum of {} and {} is {}'.format(a,b,c))\n",
    "print(f'The sum of {a} and {b} is {c}')"
   ]
  },
  {
   "cell_type": "code",
   "execution_count": null,
   "metadata": {},
   "outputs": [],
   "source": []
  },
  {
   "cell_type": "code",
   "execution_count": null,
   "metadata": {},
   "outputs": [],
   "source": []
  },
  {
   "cell_type": "code",
   "execution_count": null,
   "metadata": {},
   "outputs": [],
   "source": []
  },
  {
   "cell_type": "code",
   "execution_count": null,
   "metadata": {},
   "outputs": [],
   "source": []
  },
  {
   "cell_type": "code",
   "execution_count": null,
   "metadata": {},
   "outputs": [],
   "source": []
  },
  {
   "cell_type": "code",
   "execution_count": null,
   "metadata": {},
   "outputs": [],
   "source": []
  },
  {
   "cell_type": "code",
   "execution_count": null,
   "metadata": {},
   "outputs": [],
   "source": []
  },
  {
   "cell_type": "code",
   "execution_count": null,
   "metadata": {},
   "outputs": [],
   "source": []
  },
  {
   "cell_type": "code",
   "execution_count": null,
   "metadata": {},
   "outputs": [],
   "source": []
  },
  {
   "cell_type": "code",
   "execution_count": null,
   "metadata": {},
   "outputs": [],
   "source": []
  },
  {
   "cell_type": "code",
   "execution_count": null,
   "metadata": {},
   "outputs": [],
   "source": []
  },
  {
   "cell_type": "code",
   "execution_count": null,
   "metadata": {},
   "outputs": [],
   "source": []
  },
  {
   "cell_type": "code",
   "execution_count": null,
   "metadata": {},
   "outputs": [],
   "source": []
  }
 ],
 "metadata": {
  "kernelspec": {
   "display_name": "Python 3",
   "language": "python",
   "name": "python3"
  },
  "language_info": {
   "codemirror_mode": {
    "name": "ipython",
    "version": 3
   },
   "file_extension": ".py",
   "mimetype": "text/x-python",
   "name": "python",
   "nbconvert_exporter": "python",
   "pygments_lexer": "ipython3",
   "version": "3.8.5"
  },
  "varInspector": {
   "cols": {
    "lenName": 16,
    "lenType": 16,
    "lenVar": 40
   },
   "kernels_config": {
    "python": {
     "delete_cmd_postfix": "",
     "delete_cmd_prefix": "del ",
     "library": "var_list.py",
     "varRefreshCmd": "print(var_dic_list())"
    },
    "r": {
     "delete_cmd_postfix": ") ",
     "delete_cmd_prefix": "rm(",
     "library": "var_list.r",
     "varRefreshCmd": "cat(var_dic_list()) "
    }
   },
   "types_to_exclude": [
    "module",
    "function",
    "builtin_function_or_method",
    "instance",
    "_Feature"
   ],
   "window_display": false
  }
 },
 "nbformat": 4,
 "nbformat_minor": 2
}
