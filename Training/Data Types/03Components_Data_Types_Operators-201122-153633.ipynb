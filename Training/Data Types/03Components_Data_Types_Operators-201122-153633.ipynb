{
 "cells": [
  {
   "cell_type": "markdown",
   "metadata": {
    "ExecuteTime": {
     "end_time": "2020-11-21T07:13:04.582186Z",
     "start_time": "2020-11-21T07:13:04.573945Z"
    }
   },
   "source": [
    "# Python programming components\n",
    "    Literal, \n",
    "    constant, \n",
    "    variables, \n",
    "    identifiers, \n",
    "    Reserved Words, \n",
    "    Expression \n",
    "    Statements\n",
    "    Blocks and Indentation in Python\n",
    "    Comments in Python"
   ]
  },
  {
   "cell_type": "code",
   "execution_count": 9,
   "metadata": {
    "ExecuteTime": {
     "end_time": "2020-11-21T07:20:10.199794Z",
     "start_time": "2020-11-21T07:20:10.188481Z"
    }
   },
   "outputs": [
    {
     "name": "stdout",
     "output_type": "stream",
     "text": [
      "This is Python's class <class 'str'>\n",
      "This is \"Python\" class <class 'str'>\n",
      "This is 'Python' and \"Java\" class <class 'str'>\n"
     ]
    }
   ],
   "source": [
    "# Literal - Any constant value\n",
    "\n",
    "# 10 - int\n",
    "# 10.20 - float\n",
    "# 10+20j - complex\n",
    "# None\n",
    "# True - Boolean\n",
    "# 0b1010 - Binary\n",
    "# 0o7654 - Octal\n",
    "# 0xfc98 - hexadecimal literal\n",
    "# 'Python' - string\n",
    "\n",
    "\n",
    "\n",
    "# Defing string - '...', \"...\", '''...''', \"\"\"...\"\"\"\n",
    "\n",
    "# s = 'Python'\n",
    "# print(s, type(s))\n",
    "\n",
    "# s = \"Python\"\n",
    "# print(s, type(s))\n",
    "\n",
    "# s = '''Python'''\n",
    "# print(s, type(s))\n",
    "\n",
    "# s = \"\"\"Python\"\"\"\n",
    "# print(s, type(s))\n",
    "\n",
    "\n",
    "# s = \"This is Python's class\"\n",
    "# print(s, type(s))\n",
    "\n",
    "# s = 'This is \"Python\" class'\n",
    "# print(s, type(s))\n",
    "\n",
    "# s = \"\"\"This is 'Python' and \"Java\" class\"\"\"\n",
    "# print(s, type(s))\n",
    "\n",
    "\n"
   ]
  },
  {
   "cell_type": "code",
   "execution_count": null,
   "metadata": {},
   "outputs": [],
   "source": [
    "# Identifiers - Any name you are using is identifier\n",
    "# Name can be name of variable, constant, function, class, objects\n",
    "\n",
    "# Rules - \n",
    "    1. Allowed characters - A-Z, a-z, 0-9, _\n",
    "    2. Not Allowed - Special Charcaters\n",
    "    3. Identifiers are case sensitive - num, Num\n",
    "    4. Identifiers shlould not start with a number\n",
    "    5. Do not use Reserved words as your identifier\n",
    "    6. _abc - Private\n",
    "    7. __abc - Strongly Private\n",
    "    8. __abc__ - languages specific identifier - not recommneded to define any identifier in this manner\n",
    "    9. Constant \n",
    "\n",
    "\n",
    "\n",
    "\n",
    "\n",
    "\n",
    "\n",
    "\n",
    "\n",
    "\n",
    "\n",
    "\n"
   ]
  },
  {
   "cell_type": "code",
   "execution_count": 10,
   "metadata": {
    "ExecuteTime": {
     "end_time": "2020-11-21T07:26:29.556249Z",
     "start_time": "2020-11-21T07:26:29.550983Z"
    }
   },
   "outputs": [
    {
     "name": "stdout",
     "output_type": "stream",
     "text": [
      "__main__\n"
     ]
    }
   ],
   "source": [
    "print(__name__)"
   ]
  },
  {
   "cell_type": "code",
   "execution_count": 11,
   "metadata": {
    "ExecuteTime": {
     "end_time": "2020-11-21T07:26:50.354615Z",
     "start_time": "2020-11-21T07:26:50.348400Z"
    }
   },
   "outputs": [
    {
     "name": "stdout",
     "output_type": "stream",
     "text": [
      "['In', 'NamespaceMagics', 'Out', '_', '_Jupyter', '__', '___', '__builtin__', '__builtins__', '__doc__', '__loader__', '__name__', '__package__', '__spec__', '_dh', '_getshapeof', '_getsizeof', '_i', '_i1', '_i10', '_i11', '_i2', '_i3', '_i4', '_i5', '_i6', '_i7', '_i8', '_i9', '_ih', '_ii', '_iii', '_nms', '_oh', 'exit', 'get_ipython', 'getsizeof', 'json', 'np', 'quit', 's', 'var_dic_list', 'yapf_reformat']\n"
     ]
    }
   ],
   "source": [
    "print(dir())"
   ]
  },
  {
   "cell_type": "code",
   "execution_count": 2,
   "metadata": {
    "ExecuteTime": {
     "end_time": "2020-11-21T07:32:20.322307Z",
     "start_time": "2020-11-21T07:32:20.317716Z"
    }
   },
   "outputs": [],
   "source": [
    "# __name__= 100"
   ]
  },
  {
   "cell_type": "code",
   "execution_count": 3,
   "metadata": {
    "ExecuteTime": {
     "end_time": "2020-11-21T07:32:22.754491Z",
     "start_time": "2020-11-21T07:32:22.747319Z"
    }
   },
   "outputs": [
    {
     "name": "stdout",
     "output_type": "stream",
     "text": [
      "__main__\n"
     ]
    }
   ],
   "source": [
    "print(__name__)"
   ]
  },
  {
   "cell_type": "code",
   "execution_count": 16,
   "metadata": {
    "ExecuteTime": {
     "end_time": "2020-11-21T07:28:27.444064Z",
     "start_time": "2020-11-21T07:28:27.437506Z"
    }
   },
   "outputs": [
    {
     "name": "stdout",
     "output_type": "stream",
     "text": [
      "['False', 'None', 'True', 'and', 'as', 'assert', 'async', 'await', 'break', 'class', 'continue', 'def', 'del', 'elif', 'else', 'except', 'finally', 'for', 'from', 'global', 'if', 'import', 'in', 'is', 'lambda', 'nonlocal', 'not', 'or', 'pass', 'raise', 'return', 'try', 'while', 'with', 'yield']\n"
     ]
    }
   ],
   "source": [
    "import keyword\n",
    "print(keyword.kwlist)"
   ]
  },
  {
   "cell_type": "code",
   "execution_count": 4,
   "metadata": {
    "ExecuteTime": {
     "end_time": "2020-11-21T07:32:51.577839Z",
     "start_time": "2020-11-21T07:32:51.566182Z"
    }
   },
   "outputs": [
    {
     "ename": "SyntaxError",
     "evalue": "invalid syntax (<ipython-input-4-3abe269c51ad>, line 1)",
     "output_type": "error",
     "traceback": [
      "\u001b[0;36m  File \u001b[0;32m\"<ipython-input-4-3abe269c51ad>\"\u001b[0;36m, line \u001b[0;32m1\u001b[0m\n\u001b[0;31m    if = 100\u001b[0m\n\u001b[0m       ^\u001b[0m\n\u001b[0;31mSyntaxError\u001b[0m\u001b[0;31m:\u001b[0m invalid syntax\n"
     ]
    }
   ],
   "source": [
    "if = 100"
   ]
  },
  {
   "cell_type": "code",
   "execution_count": 6,
   "metadata": {
    "ExecuteTime": {
     "end_time": "2020-11-21T07:34:34.365313Z",
     "start_time": "2020-11-21T07:34:34.349110Z"
    }
   },
   "outputs": [
    {
     "data": {
      "text/plain": [
       "3.14"
      ]
     },
     "execution_count": 6,
     "metadata": {},
     "output_type": "execute_result"
    }
   ],
   "source": [
    "PI = 3.14\n",
    "PI"
   ]
  },
  {
   "cell_type": "code",
   "execution_count": 7,
   "metadata": {
    "ExecuteTime": {
     "end_time": "2020-11-21T07:34:37.490781Z",
     "start_time": "2020-11-21T07:34:37.481246Z"
    }
   },
   "outputs": [
    {
     "data": {
      "text/plain": [
       "3.15"
      ]
     },
     "execution_count": 7,
     "metadata": {},
     "output_type": "execute_result"
    }
   ],
   "source": [
    "PI = 3.15\n",
    "PI"
   ]
  },
  {
   "cell_type": "code",
   "execution_count": null,
   "metadata": {},
   "outputs": [],
   "source": [
    "PEP8 - "
   ]
  },
  {
   "cell_type": "code",
   "execution_count": 15,
   "metadata": {
    "ExecuteTime": {
     "end_time": "2020-11-21T07:39:21.461220Z",
     "start_time": "2020-11-21T07:39:21.453661Z"
    }
   },
   "outputs": [
    {
     "ename": "SyntaxError",
     "evalue": "invalid syntax (<ipython-input-15-e67b8ffc96c1>, line 10)",
     "output_type": "error",
     "traceback": [
      "\u001b[0;36m  File \u001b[0;32m\"<ipython-input-15-e67b8ffc96c1>\"\u001b[0;36m, line \u001b[0;32m10\u001b[0m\n\u001b[0;31m    print(for i in range(5):)\u001b[0m\n\u001b[0m            ^\u001b[0m\n\u001b[0;31mSyntaxError\u001b[0m\u001b[0;31m:\u001b[0m invalid syntax\n"
     ]
    }
   ],
   "source": [
    "# Expression - return some output and statments - will not give the output\n",
    "\n",
    "print(10+20)\n",
    "print(10)\n",
    "print('Python' + 'Class')\n",
    "\n",
    "\n",
    "a = 100\n",
    "\n",
    "for i in range(5):\n",
    "\n"
   ]
  },
  {
   "cell_type": "code",
   "execution_count": 23,
   "metadata": {
    "ExecuteTime": {
     "end_time": "2020-11-21T07:47:18.272751Z",
     "start_time": "2020-11-21T07:47:18.267382Z"
    }
   },
   "outputs": [],
   "source": [
    "# Block - group of exprssion and statments\n",
    "\n",
    "# lst = range(1,21)\n",
    "# out_lst = []\n",
    "# for i in lst:\n",
    "#     if i%2 == 0:\n",
    "#         out_lst.append(i**2)\n",
    "\n",
    "# print(out_lst)\n",
    "\n",
    "\n",
    "\n",
    "\n",
    "\n"
   ]
  },
  {
   "cell_type": "code",
   "execution_count": null,
   "metadata": {},
   "outputs": [],
   "source": [
    "# Data Types:-\n",
    "#     Fundamental - int, float, complex, boolean, None, string\n",
    "#     Derived - List, tuple, set, frozenset, dictionary, bytes, bytearray, range\n",
    "    \n",
    "    "
   ]
  },
  {
   "cell_type": "code",
   "execution_count": 42,
   "metadata": {
    "ExecuteTime": {
     "end_time": "2020-11-21T08:11:22.535797Z",
     "start_time": "2020-11-21T08:11:22.525534Z"
    }
   },
   "outputs": [
    {
     "name": "stdout",
     "output_type": "stream",
     "text": [
      "10\n",
      "10\n",
      "10\n",
      "21\n",
      "32099\n",
      "64664\n",
      "1\n"
     ]
    }
   ],
   "source": [
    "# Integers - any real number without decimal point, we use decimal format to define an integers\n",
    "#     10, 0, -10\n",
    "# integres can be represented in Binary, OCtal, hexadecimal\n",
    "\n",
    "# num = 100\n",
    "# print(bin(num))\n",
    "# print(oct(num))\n",
    "# print(hex(num))\n",
    "\n",
    "# bin_num = 0b1010110\n",
    "# oct_num = 0o7654\n",
    "# hex_num = 0xfc98\n",
    "# # print(bin_num)\n",
    "# print(oct_num)\n",
    "# print(hex_num)\n",
    "# print(bin_num*3)\n",
    "\n",
    "# There no concept of size in Python\n",
    "# import sys\n",
    "# a = 10\n",
    "# print(a, sys.getsizeof(a))\n",
    "\n",
    "\n",
    "# a = 1000000000000000000000000000000000000000000000000000000000000000000000000000000\n",
    "# print(a, sys.getsizeof(a))\n",
    "\n",
    "\n",
    "print(int(10))\n",
    "print(int('10'))\n",
    "print(int(10.20))\n",
    "print(int(0b10101))\n",
    "print(int(0o76543))\n",
    "print(int(0xfc98))\n",
    "print(int(True))\n",
    "\n",
    "\n",
    "\n",
    "# print(int('10.20'))\n",
    "# print(int(10+20j))\n",
    "# print(int('True'))\n",
    "# print(int('0b10100'))\n",
    "# print(int('A'))\n",
    "\n",
    "\n",
    "\n",
    "\n",
    "\n",
    "\n",
    "\n"
   ]
  },
  {
   "cell_type": "code",
   "execution_count": 49,
   "metadata": {
    "ExecuteTime": {
     "end_time": "2020-11-21T08:13:59.194656Z",
     "start_time": "2020-11-21T08:13:59.171969Z"
    }
   },
   "outputs": [
    {
     "name": "stdout",
     "output_type": "stream",
     "text": [
      "10.2 <class 'float'>\n",
      "10.0\n",
      "10.0\n",
      "10.2\n",
      "21.0\n",
      "32099.0\n",
      "64664.0\n",
      "1.0\n",
      "10.2\n"
     ]
    },
    {
     "ename": "ValueError",
     "evalue": "could not convert string to float: 'A'",
     "output_type": "error",
     "traceback": [
      "\u001b[0;31m---------------------------------------------------------------------------\u001b[0m",
      "\u001b[0;31mValueError\u001b[0m                                Traceback (most recent call last)",
      "\u001b[0;32m<ipython-input-49-d78af31e695d>\u001b[0m in \u001b[0;36m<module>\u001b[0;34m\u001b[0m\n\u001b[1;32m     21\u001b[0m \u001b[0;31m# print(float('True'))\u001b[0m\u001b[0;34m\u001b[0m\u001b[0;34m\u001b[0m\u001b[0;34m\u001b[0m\u001b[0m\n\u001b[1;32m     22\u001b[0m \u001b[0;31m# print(float('0b10100'))\u001b[0m\u001b[0;34m\u001b[0m\u001b[0;34m\u001b[0m\u001b[0;34m\u001b[0m\u001b[0m\n\u001b[0;32m---> 23\u001b[0;31m \u001b[0mprint\u001b[0m\u001b[0;34m(\u001b[0m\u001b[0mfloat\u001b[0m\u001b[0;34m(\u001b[0m\u001b[0;34m'A'\u001b[0m\u001b[0;34m)\u001b[0m\u001b[0;34m)\u001b[0m\u001b[0;34m\u001b[0m\u001b[0;34m\u001b[0m\u001b[0m\n\u001b[0m\u001b[1;32m     24\u001b[0m \u001b[0;34m\u001b[0m\u001b[0m\n\u001b[1;32m     25\u001b[0m \u001b[0;34m\u001b[0m\u001b[0m\n",
      "\u001b[0;31mValueError\u001b[0m: could not convert string to float: 'A'"
     ]
    }
   ],
   "source": [
    "# float - any real number with decimal point, we use decimal format to define float\n",
    "\n",
    "# float can be represented only in decimal format\n",
    "\n",
    "a = 10.20\n",
    "print(a, type(a))\n",
    "\n",
    "print(float(10))\n",
    "print(float('10'))\n",
    "print(float(10.20))\n",
    "print(float(0b10101))\n",
    "print(float(0o76543))\n",
    "print(float(0xfc98))\n",
    "print(float(True))\n",
    "print(float('10.20'))\n",
    "\n",
    "\n",
    "\n",
    "\n",
    "# print(float(10+20j))\n",
    "# print(float('True'))\n",
    "# print(float('0b10100'))\n",
    "# print(float('A'))\n",
    "\n",
    "\n"
   ]
  },
  {
   "cell_type": "code",
   "execution_count": 57,
   "metadata": {
    "ExecuteTime": {
     "end_time": "2020-11-21T08:17:57.098228Z",
     "start_time": "2020-11-21T08:17:57.090466Z"
    }
   },
   "outputs": [
    {
     "name": "stdout",
     "output_type": "stream",
     "text": [
      "(-10+0j)\n"
     ]
    }
   ],
   "source": [
    "# Complex NUmber - a+bj where a is real and b is imaginary, j is equal to square root of -1\n",
    "\n",
    "# In complex function, if first argument is string then it will not take second argument\n",
    "\n",
    "a = 10+20j\n",
    "# print(a, type(a))\n",
    "# 10 = real \n",
    "# 20 is imaginary\n",
    "\n",
    "# print(a.real)\n",
    "# print(a.imag)\n",
    "\n",
    "\n",
    "# print(complex())\n",
    "# print(complex(10))\n",
    "# print(complex(10,20))\n",
    "\n",
    "#converted\n",
    "\n",
    "# print(complex(10))\n",
    "# print(complex('10'))\n",
    "# print(complex(10.20))\n",
    "# print(complex(0b10101))\n",
    "# print(complex(0o76543))\n",
    "# print(complex(0xfc98))\n",
    "# print(complex(True))\n",
    "# print(complex('10.20'))\n",
    "\n",
    "\n",
    "\n",
    "# not converted\n",
    "\n",
    "# print(complex(10+20j))\n",
    "# print(complex('True'))\n",
    "# print(complex('0b10100'))\n",
    "# print(complex('A'))\n",
    "\n",
    "# In complex function, if first argument is string then it will not take second argument\n",
    "\n",
    "# print(complex(10, '10.20'))\n",
    "# print(complex('10', 10.20))\n",
    "\n",
    "print(complex(10,20j))\n",
    "\n",
    "# 10 - 20\n"
   ]
  },
  {
   "cell_type": "code",
   "execution_count": 40,
   "metadata": {
    "ExecuteTime": {
     "end_time": "2020-11-21T08:08:25.956152Z",
     "start_time": "2020-11-21T08:08:25.949214Z"
    }
   },
   "outputs": [],
   "source": [
    "# help(complex)"
   ]
  },
  {
   "cell_type": "code",
   "execution_count": null,
   "metadata": {},
   "outputs": [],
   "source": [
    "j*j = -1 (sqrt of -1)*2"
   ]
  },
  {
   "cell_type": "code",
   "execution_count": 13,
   "metadata": {
    "ExecuteTime": {
     "end_time": "2020-11-21T08:44:14.101124Z",
     "start_time": "2020-11-21T08:44:14.089611Z"
    }
   },
   "outputs": [
    {
     "data": {
      "text/plain": [
       "True"
      ]
     },
     "execution_count": 13,
     "metadata": {},
     "output_type": "execute_result"
    }
   ],
   "source": [
    "# Boolean - True False\n",
    "\n",
    "# In number, 0, 0.0, 0+0j -> false \n",
    "# 0.00001 -> True, -10 - True, 0.0001+0.0j - True\n",
    "\n",
    "\n",
    "# print(bool(0.0))\n",
    "# print(bool(0.0+0j))\n",
    "# print(bool(0.000001+0j))\n",
    "\n",
    "# print(bool(0.00001))\n",
    "# print(bool(-10))\n",
    "\n",
    "bool('')\n",
    "\n",
    "bool('0')\n",
    "\n"
   ]
  },
  {
   "cell_type": "code",
   "execution_count": 4,
   "metadata": {
    "ExecuteTime": {
     "end_time": "2020-11-21T08:41:22.566774Z",
     "start_time": "2020-11-21T08:41:22.561145Z"
    }
   },
   "outputs": [
    {
     "name": "stdout",
     "output_type": "stream",
     "text": [
      "Help on NoneType object:\n",
      "\n",
      "class NoneType(object)\n",
      " |  Methods defined here:\n",
      " |  \n",
      " |  __bool__(self, /)\n",
      " |      self != 0\n",
      " |  \n",
      " |  __repr__(self, /)\n",
      " |      Return repr(self).\n",
      " |  \n",
      " |  ----------------------------------------------------------------------\n",
      " |  Static methods defined here:\n",
      " |  \n",
      " |  __new__(*args, **kwargs) from builtins.type\n",
      " |      Create and return a new object.  See help(type) for accurate signature.\n",
      "\n"
     ]
    }
   ],
   "source": [
    "# help(None)"
   ]
  },
  {
   "cell_type": "code",
   "execution_count": 1,
   "metadata": {
    "ExecuteTime": {
     "end_time": "2020-11-21T08:46:17.438834Z",
     "start_time": "2020-11-21T08:46:17.427417Z"
    }
   },
   "outputs": [
    {
     "name": "stdout",
     "output_type": "stream",
     "text": [
      "False\n"
     ]
    }
   ],
   "source": [
    "#lst = [None]*10\n",
    "# lst[1] = 100\n",
    "# lst[5] = 1000\n",
    "# lst[-1] = 11111\n",
    "# lst\n",
    "\n",
    "\n",
    "# None is always False\n",
    "print(bool(None))"
   ]
  },
  {
   "cell_type": "code",
   "execution_count": 14,
   "metadata": {
    "ExecuteTime": {
     "end_time": "2020-11-21T08:45:01.170938Z",
     "start_time": "2020-11-21T08:45:01.162391Z"
    }
   },
   "outputs": [
    {
     "data": {
      "text/plain": [
       "[None, 100, None, None, None, 1000, None, None, None, 11111]"
      ]
     },
     "execution_count": 14,
     "metadata": {},
     "output_type": "execute_result"
    }
   ],
   "source": [
    "lst"
   ]
  },
  {
   "cell_type": "code",
   "execution_count": 19,
   "metadata": {
    "ExecuteTime": {
     "end_time": "2020-11-21T08:48:01.286570Z",
     "start_time": "2020-11-21T08:48:01.283922Z"
    }
   },
   "outputs": [],
   "source": [
    "# String\n",
    "\n",
    "# String is a sequence\n",
    "\n",
    "# In string - \"\" False\n",
    "# \" \" - True\n",
    "# print(bool(\"\"))\n",
    "# print(bool(\" \"))\n",
    "# print(bool(\"10\"))\n",
    "# print(bool(\"A\"))\n",
    "# print(bool(\"0\"))\n",
    "# print(bool(\"False\"))\n"
   ]
  },
  {
   "cell_type": "code",
   "execution_count": 33,
   "metadata": {
    "ExecuteTime": {
     "end_time": "2020-11-21T08:55:26.713813Z",
     "start_time": "2020-11-21T08:55:26.706075Z"
    }
   },
   "outputs": [],
   "source": [
    "# Derived Data types in Python\n",
    "# List - anything kept inside []\n",
    "\n",
    "lst = [10,20,30,40]\n",
    "# print(lst, type(lst))\n",
    "\n",
    "# Adding a value in list - append, insert, extend\n",
    "# lst.append(100)\n",
    "# print(lst)\n",
    "\n",
    "\n",
    "# print(lst)\n",
    "# lst.insert(2, 300)\n",
    "# print(lst)\n",
    "\n",
    "# print(lst)\n",
    "# lst.extend([1,2,3])\n",
    "# print(lst)\n",
    "\n",
    "# Difference between append and extend\n",
    "# lst.append([100,200,300])\n",
    "# print(lst)\n",
    "\n",
    "# lst.extend([111,222,333])\n",
    "# print(lst)\n",
    "\n",
    "# Remove - pop, remove\n",
    "# lst.pop()\n",
    "\n",
    "# lst.pop(2)\n",
    "\n",
    "# lst.remove(20)\n",
    "\n"
   ]
  },
  {
   "cell_type": "code",
   "execution_count": 35,
   "metadata": {
    "ExecuteTime": {
     "end_time": "2020-11-21T08:55:43.880678Z",
     "start_time": "2020-11-21T08:55:43.878018Z"
    }
   },
   "outputs": [],
   "source": [
    "# print(lst)"
   ]
  },
  {
   "cell_type": "code",
   "execution_count": 36,
   "metadata": {
    "ExecuteTime": {
     "end_time": "2020-11-21T08:57:33.753467Z",
     "start_time": "2020-11-21T08:57:33.745352Z"
    }
   },
   "outputs": [],
   "source": [
    "# lst = [10,20,30,40]\n",
    "# lst1 = [1,2,3]"
   ]
  },
  {
   "cell_type": "code",
   "execution_count": 41,
   "metadata": {
    "ExecuteTime": {
     "end_time": "2020-11-21T08:59:45.440930Z",
     "start_time": "2020-11-21T08:59:45.435492Z"
    }
   },
   "outputs": [
    {
     "name": "stdout",
     "output_type": "stream",
     "text": [
      "[10, 20, 30, 40]\n",
      "[20, 30, 40]\n"
     ]
    }
   ],
   "source": [
    "# List is mutable - item assignment is possible\n",
    "# lst = [10,20,30,40]\n",
    "# lst[0] = 1111\n",
    "# print(lst)\n",
    "\n",
    "\n",
    "lst = [10,20,30,40]\n",
    "lst1 = lst[1:]\n",
    "print(lst)\n",
    "print(lst1)"
   ]
  },
  {
   "cell_type": "code",
   "execution_count": 52,
   "metadata": {
    "ExecuteTime": {
     "end_time": "2020-11-21T09:06:47.067322Z",
     "start_time": "2020-11-21T09:06:47.059371Z"
    }
   },
   "outputs": [
    {
     "name": "stdout",
     "output_type": "stream",
     "text": [
      "[] <class 'list'>\n"
     ]
    }
   ],
   "source": [
    "# creating empty list\n",
    "lst = []\n",
    "print(lst, type(lst))"
   ]
  },
  {
   "cell_type": "code",
   "execution_count": 53,
   "metadata": {
    "ExecuteTime": {
     "end_time": "2020-11-21T09:07:12.219945Z",
     "start_time": "2020-11-21T09:07:12.214134Z"
    }
   },
   "outputs": [
    {
     "name": "stdout",
     "output_type": "stream",
     "text": [
      "() <class 'tuple'>\n"
     ]
    }
   ],
   "source": [
    "# Tuple - Similar to list, Tuple is immutable\n",
    "\n",
    "# tpl = 10,20,30,40\n",
    "# print(tpl, type(tpl))\n",
    "\n",
    "# tpl = (10,)\n",
    "# print(tpl, type(tpl))\n",
    "\n",
    "# tpl[0] = 100\n",
    "\n",
    "# creating empty tuple\n",
    "tpl = ()\n",
    "print(tpl, type(tpl))"
   ]
  },
  {
   "cell_type": "code",
   "execution_count": 61,
   "metadata": {
    "ExecuteTime": {
     "end_time": "2020-11-21T09:12:06.340206Z",
     "start_time": "2020-11-21T09:12:06.329460Z"
    }
   },
   "outputs": [
    {
     "data": {
      "text/plain": [
       "(frozenset({10, 20, 30, 40}), frozenset)"
      ]
     },
     "execution_count": 61,
     "metadata": {},
     "output_type": "execute_result"
    }
   ],
   "source": [
    "# set(mutable) and frozenset(immutable)\n",
    "s = {10,20,30,40, 10,30}\n",
    "s, type(s)\n",
    "\n",
    "fz = frozenset(s)\n",
    "fz,type(fz)"
   ]
  },
  {
   "cell_type": "code",
   "execution_count": 50,
   "metadata": {
    "ExecuteTime": {
     "end_time": "2020-11-21T09:05:33.820564Z",
     "start_time": "2020-11-21T09:05:33.807469Z"
    }
   },
   "outputs": [
    {
     "data": {
      "text/plain": [
       "{10, 20, 30, 40, 100}"
      ]
     },
     "execution_count": 50,
     "metadata": {},
     "output_type": "execute_result"
    }
   ],
   "source": [
    "# s.add(100)\n",
    "# s"
   ]
  },
  {
   "cell_type": "code",
   "execution_count": 51,
   "metadata": {
    "ExecuteTime": {
     "end_time": "2020-11-21T09:05:44.562051Z",
     "start_time": "2020-11-21T09:05:44.548109Z"
    }
   },
   "outputs": [
    {
     "ename": "AttributeError",
     "evalue": "'frozenset' object has no attribute 'add'",
     "output_type": "error",
     "traceback": [
      "\u001b[0;31m---------------------------------------------------------------------------\u001b[0m",
      "\u001b[0;31mAttributeError\u001b[0m                            Traceback (most recent call last)",
      "\u001b[0;32m<ipython-input-51-1eb791fa9263>\u001b[0m in \u001b[0;36m<module>\u001b[0;34m\u001b[0m\n\u001b[0;32m----> 1\u001b[0;31m \u001b[0mfz\u001b[0m\u001b[0;34m.\u001b[0m\u001b[0madd\u001b[0m\u001b[0;34m(\u001b[0m\u001b[0;36m100\u001b[0m\u001b[0;34m)\u001b[0m\u001b[0;34m\u001b[0m\u001b[0;34m\u001b[0m\u001b[0m\n\u001b[0m\u001b[1;32m      2\u001b[0m \u001b[0mfz\u001b[0m\u001b[0;34m\u001b[0m\u001b[0;34m\u001b[0m\u001b[0m\n",
      "\u001b[0;31mAttributeError\u001b[0m: 'frozenset' object has no attribute 'add'"
     ]
    }
   ],
   "source": [
    "# fz.add(100)\n",
    "# fz"
   ]
  },
  {
   "cell_type": "code",
   "execution_count": 55,
   "metadata": {
    "ExecuteTime": {
     "end_time": "2020-11-21T09:07:35.965974Z",
     "start_time": "2020-11-21T09:07:35.958638Z"
    }
   },
   "outputs": [
    {
     "name": "stdout",
     "output_type": "stream",
     "text": [
      "set() <class 'set'>\n"
     ]
    }
   ],
   "source": [
    "# creating empty set\n",
    "s = set()\n",
    "print(s, type(s))"
   ]
  },
  {
   "cell_type": "code",
   "execution_count": 56,
   "metadata": {
    "ExecuteTime": {
     "end_time": "2020-11-21T09:08:00.587765Z",
     "start_time": "2020-11-21T09:08:00.581971Z"
    }
   },
   "outputs": [
    {
     "name": "stdout",
     "output_type": "stream",
     "text": [
      "{} <class 'dict'>\n"
     ]
    }
   ],
   "source": [
    "d = {}\n",
    "print(d, type(d))"
   ]
  },
  {
   "cell_type": "code",
   "execution_count": 58,
   "metadata": {
    "ExecuteTime": {
     "end_time": "2020-11-21T09:08:48.127396Z",
     "start_time": "2020-11-21T09:08:48.121595Z"
    }
   },
   "outputs": [
    {
     "name": "stdout",
     "output_type": "stream",
     "text": [
      "100\n"
     ]
    }
   ],
   "source": [
    "d = {1:100,2:200, 3:300}\n",
    "print(d[1])\n",
    "\n"
   ]
  },
  {
   "cell_type": "code",
   "execution_count": 59,
   "metadata": {
    "ExecuteTime": {
     "end_time": "2020-11-21T09:10:10.531548Z",
     "start_time": "2020-11-21T09:10:10.524132Z"
    }
   },
   "outputs": [
    {
     "data": {
      "text/plain": [
       "{'Ename': 'ABC', 'Eid': 101}"
      ]
     },
     "execution_count": 59,
     "metadata": {},
     "output_type": "execute_result"
    }
   ],
   "source": [
    "emp_info = {'Ename':'ABC', 'Eid':101}\n",
    "emp_info"
   ]
  },
  {
   "cell_type": "code",
   "execution_count": 60,
   "metadata": {
    "ExecuteTime": {
     "end_time": "2020-11-21T09:10:39.099012Z",
     "start_time": "2020-11-21T09:10:39.092859Z"
    }
   },
   "outputs": [],
   "source": [
    "emp_info = [101, 'ABC']"
   ]
  },
  {
   "cell_type": "code",
   "execution_count": 63,
   "metadata": {
    "ExecuteTime": {
     "end_time": "2020-11-21T09:14:05.882276Z",
     "start_time": "2020-11-21T09:14:05.874528Z"
    }
   },
   "outputs": [
    {
     "data": {
      "text/plain": [
       "[1, 2, 100, 9, 10, 20, 90]"
      ]
     },
     "execution_count": 63,
     "metadata": {},
     "output_type": "execute_result"
    }
   ],
   "source": [
    "lst = list(set([10,1,100,2,1,10,20,90,9,1,10]))\n",
    "lst"
   ]
  },
  {
   "cell_type": "code",
   "execution_count": 69,
   "metadata": {
    "ExecuteTime": {
     "end_time": "2020-11-21T09:17:23.415841Z",
     "start_time": "2020-11-21T09:17:23.407172Z"
    }
   },
   "outputs": [
    {
     "name": "stdout",
     "output_type": "stream",
     "text": [
      "bytearray(b'\\n\\x14\\x1e\\xfa') <class 'bytearray'>\n",
      "bytearray(b'd\\x14\\x1e\\xfa') <class 'bytearray'>\n"
     ]
    }
   ],
   "source": [
    "# bytes(immutable) and bytearray(mutable)\n",
    "# 0-256\n",
    "\n",
    "\n",
    "# b = bytes([10,20,30])\n",
    "# print(b, type(b))\n",
    "\n",
    "# b[0] = 100\n",
    "\n",
    "# b = bytearray([10,20,30,250])\n",
    "# print(b, type(b))\n",
    "\n",
    "# b[0] = 100\n",
    "# print(b, type(b))\n"
   ]
  },
  {
   "cell_type": "code",
   "execution_count": 86,
   "metadata": {
    "ExecuteTime": {
     "end_time": "2020-11-21T09:24:19.893777Z",
     "start_time": "2020-11-21T09:24:19.883069Z"
    }
   },
   "outputs": [
    {
     "data": {
      "text/plain": [
       "{10, 11, 12, 13, 14, 15, 16, 17, 18, 19, 20}"
      ]
     },
     "execution_count": 86,
     "metadata": {},
     "output_type": "execute_result"
    }
   ],
   "source": [
    "range(10)    # start = 0, stop = 10(stop is exclusive)\n",
    "\n",
    "set(range(10,21))\n",
    "\n",
    "# print(list(range(10,41,3)))\n",
    "\n",
    "# print(list(range(0, -10, -2)))\n",
    "\n",
    "\n"
   ]
  },
  {
   "cell_type": "code",
   "execution_count": 88,
   "metadata": {
    "ExecuteTime": {
     "end_time": "2020-11-21T09:29:19.841738Z",
     "start_time": "2020-11-21T09:29:19.831872Z"
    }
   },
   "outputs": [
    {
     "data": {
      "text/plain": [
       "[]"
      ]
     },
     "execution_count": 88,
     "metadata": {},
     "output_type": "execute_result"
    }
   ],
   "source": [
    "list(range(1,10,-1))"
   ]
  },
  {
   "cell_type": "code",
   "execution_count": null,
   "metadata": {},
   "outputs": [],
   "source": [
    "\n",
    "\n",
    "\n",
    "#       ----------------------------------------------------------------------->       +ve\n",
    "\n",
    "# -inf -------------------------------------0------------------------------------------ +inf\n",
    "\n",
    "#      <------------------------------------------------------------------------      -ve\n",
    "\n",
    "\n",
    "\n"
   ]
  },
  {
   "cell_type": "code",
   "execution_count": null,
   "metadata": {},
   "outputs": [],
   "source": [
    "# Operators\n",
    "    Arithmetic Operator\n",
    "    Comparison Operator\n",
    "    Equality Operator\n",
    "    Logical Operator\n",
    "    Bitwise Operator\n",
    "    Assignement and compound assignment\n",
    "    Membership\n",
    "    Identity\n",
    "    Ternary operator\n",
    "    \n",
    "    "
   ]
  },
  {
   "cell_type": "code",
   "execution_count": 99,
   "metadata": {
    "ExecuteTime": {
     "end_time": "2020-11-21T09:40:00.482306Z",
     "start_time": "2020-11-21T09:40:00.476934Z"
    }
   },
   "outputs": [],
   "source": [
    "# Arithmetic Operator - +, -, *, /(Float Division), //(Floor Division), **(Exponent), %(Modulo) - reminaer\n",
    "\n",
    "import math\n",
    "num1 = 10\n",
    "num2 = 3\n",
    "# print(num1+num2)\n",
    "# print(num1-num2)\n",
    "# print(num1*num2)\n",
    "\n",
    "\n",
    "# Floor - Lowest nearest whole number \n",
    "\n",
    "# Ceil - Highest nearest whole number\n",
    "# print(math.floor(3.9))\n",
    "# print(math.ceil(3.9))\n",
    "\n",
    "# math.ceil(0.00001)\n",
    "\n",
    "\n",
    "# print(num1/num2)  # True DIVISION - Float Division\n",
    "\n",
    "# print(num1//num2)  # Floor value\n",
    "\n",
    "# Modulo - remainder\n",
    "# print(num1%num2)\n",
    "\n",
    "# print(num1**num2)\n"
   ]
  },
  {
   "cell_type": "code",
   "execution_count": 108,
   "metadata": {
    "ExecuteTime": {
     "end_time": "2020-11-21T09:46:42.381055Z",
     "start_time": "2020-11-21T09:46:42.373329Z"
    }
   },
   "outputs": [
    {
     "name": "stdout",
     "output_type": "stream",
     "text": [
      "Python3\n",
      "(10, 20, 30, 1)\n",
      "(10, 20, 30)\n",
      "(1,)\n"
     ]
    }
   ],
   "source": [
    "# Concatenation - +\n",
    "    # Both the operand should eb of similar sequence type\n",
    "# repetition - *\n",
    "    # One operand should be seq and other should be integer\n",
    "    \n",
    "# print('Python' + 'Class')\n",
    "# print([1,2,3]+[10,20,30])\n",
    "\n",
    "print('Python'+'3')\n",
    "\n",
    "tpl = (10,20,30)\n",
    "tpl1 = (1,)\n",
    "print(tpl + tpl1)\n",
    "print(tpl)\n",
    "print(tpl1)\n"
   ]
  },
  {
   "cell_type": "code",
   "execution_count": 125,
   "metadata": {
    "ExecuteTime": {
     "end_time": "2020-11-21T09:55:02.473260Z",
     "start_time": "2020-11-21T09:55:02.464739Z"
    }
   },
   "outputs": [
    {
     "name": "stdout",
     "output_type": "stream",
     "text": [
      "False\n"
     ]
    }
   ],
   "source": [
    "# Comparison Operator - <, <=, >, >=\n",
    "# Works between similar data type except int and float\n",
    "# Comparison between complex numbers is not possible\n",
    "# Returns Boolean Value\n",
    "\n",
    "# print(10<20)\n",
    "# print(10<10.20)\n",
    "# print(10<10+20j)\n",
    "# print((10+20j)<(20+20j))\n",
    "# print('A' <= 65)\n",
    "# print('A'<'a')\n",
    "\n",
    "print([10,2,3]<[10,5,6])\n",
    "\n",
    "\n",
    "\n",
    "\n"
   ]
  },
  {
   "cell_type": "code",
   "execution_count": 115,
   "metadata": {
    "ExecuteTime": {
     "end_time": "2020-11-21T09:50:48.763224Z",
     "start_time": "2020-11-21T09:50:48.752107Z"
    }
   },
   "outputs": [
    {
     "name": "stdout",
     "output_type": "stream",
     "text": [
      "65\n",
      "97\n",
      "61\n"
     ]
    }
   ],
   "source": [
    "# Character to ASCII code\n",
    "# print(ord('A'))\n",
    "# print(ord('a'))# Ascii Equivalent\n",
    "# print(ord('='))"
   ]
  },
  {
   "cell_type": "code",
   "execution_count": 117,
   "metadata": {
    "ExecuteTime": {
     "end_time": "2020-11-21T09:51:37.576823Z",
     "start_time": "2020-11-21T09:51:37.569543Z"
    }
   },
   "outputs": [
    {
     "name": "stdout",
     "output_type": "stream",
     "text": [
      "a\n",
      "A\n",
      "=\n"
     ]
    }
   ],
   "source": [
    "# ASCII code to characters\n",
    "# print(chr(97))\n",
    "# print(chr(65))\n",
    "# print(chr(61))"
   ]
  },
  {
   "cell_type": "code",
   "execution_count": null,
   "metadata": {},
   "outputs": [],
   "source": []
  },
  {
   "cell_type": "code",
   "execution_count": null,
   "metadata": {},
   "outputs": [],
   "source": []
  },
  {
   "cell_type": "code",
   "execution_count": null,
   "metadata": {},
   "outputs": [],
   "source": []
  },
  {
   "cell_type": "code",
   "execution_count": null,
   "metadata": {},
   "outputs": [],
   "source": []
  },
  {
   "cell_type": "code",
   "execution_count": null,
   "metadata": {},
   "outputs": [],
   "source": []
  },
  {
   "cell_type": "code",
   "execution_count": null,
   "metadata": {},
   "outputs": [],
   "source": []
  },
  {
   "cell_type": "code",
   "execution_count": null,
   "metadata": {},
   "outputs": [],
   "source": []
  },
  {
   "cell_type": "code",
   "execution_count": null,
   "metadata": {},
   "outputs": [],
   "source": []
  },
  {
   "cell_type": "code",
   "execution_count": null,
   "metadata": {},
   "outputs": [],
   "source": []
  },
  {
   "cell_type": "code",
   "execution_count": null,
   "metadata": {},
   "outputs": [],
   "source": []
  },
  {
   "cell_type": "code",
   "execution_count": null,
   "metadata": {},
   "outputs": [],
   "source": []
  },
  {
   "cell_type": "code",
   "execution_count": null,
   "metadata": {},
   "outputs": [],
   "source": []
  },
  {
   "cell_type": "code",
   "execution_count": null,
   "metadata": {},
   "outputs": [],
   "source": []
  },
  {
   "cell_type": "code",
   "execution_count": null,
   "metadata": {},
   "outputs": [],
   "source": []
  },
  {
   "cell_type": "code",
   "execution_count": null,
   "metadata": {},
   "outputs": [],
   "source": []
  },
  {
   "cell_type": "code",
   "execution_count": null,
   "metadata": {},
   "outputs": [],
   "source": []
  },
  {
   "cell_type": "code",
   "execution_count": null,
   "metadata": {},
   "outputs": [],
   "source": []
  },
  {
   "cell_type": "code",
   "execution_count": null,
   "metadata": {},
   "outputs": [],
   "source": []
  },
  {
   "cell_type": "code",
   "execution_count": null,
   "metadata": {},
   "outputs": [],
   "source": []
  },
  {
   "cell_type": "code",
   "execution_count": null,
   "metadata": {},
   "outputs": [],
   "source": []
  },
  {
   "cell_type": "code",
   "execution_count": null,
   "metadata": {},
   "outputs": [],
   "source": []
  },
  {
   "cell_type": "code",
   "execution_count": null,
   "metadata": {},
   "outputs": [],
   "source": []
  },
  {
   "cell_type": "code",
   "execution_count": null,
   "metadata": {},
   "outputs": [],
   "source": []
  },
  {
   "cell_type": "code",
   "execution_count": null,
   "metadata": {},
   "outputs": [],
   "source": []
  },
  {
   "cell_type": "code",
   "execution_count": null,
   "metadata": {},
   "outputs": [],
   "source": []
  },
  {
   "cell_type": "code",
   "execution_count": null,
   "metadata": {},
   "outputs": [],
   "source": []
  },
  {
   "cell_type": "code",
   "execution_count": null,
   "metadata": {},
   "outputs": [],
   "source": []
  },
  {
   "cell_type": "code",
   "execution_count": null,
   "metadata": {},
   "outputs": [],
   "source": []
  },
  {
   "cell_type": "code",
   "execution_count": null,
   "metadata": {},
   "outputs": [],
   "source": []
  },
  {
   "cell_type": "code",
   "execution_count": null,
   "metadata": {},
   "outputs": [],
   "source": []
  },
  {
   "cell_type": "code",
   "execution_count": null,
   "metadata": {},
   "outputs": [],
   "source": []
  },
  {
   "cell_type": "code",
   "execution_count": null,
   "metadata": {},
   "outputs": [],
   "source": []
  },
  {
   "cell_type": "code",
   "execution_count": null,
   "metadata": {},
   "outputs": [],
   "source": []
  },
  {
   "cell_type": "code",
   "execution_count": null,
   "metadata": {},
   "outputs": [],
   "source": []
  },
  {
   "cell_type": "code",
   "execution_count": null,
   "metadata": {},
   "outputs": [],
   "source": []
  },
  {
   "cell_type": "code",
   "execution_count": null,
   "metadata": {},
   "outputs": [],
   "source": []
  },
  {
   "cell_type": "code",
   "execution_count": null,
   "metadata": {},
   "outputs": [],
   "source": []
  },
  {
   "cell_type": "code",
   "execution_count": null,
   "metadata": {},
   "outputs": [],
   "source": []
  },
  {
   "cell_type": "code",
   "execution_count": null,
   "metadata": {},
   "outputs": [],
   "source": []
  },
  {
   "cell_type": "code",
   "execution_count": null,
   "metadata": {},
   "outputs": [],
   "source": []
  },
  {
   "cell_type": "code",
   "execution_count": null,
   "metadata": {},
   "outputs": [],
   "source": []
  },
  {
   "cell_type": "code",
   "execution_count": null,
   "metadata": {},
   "outputs": [],
   "source": []
  },
  {
   "cell_type": "code",
   "execution_count": null,
   "metadata": {},
   "outputs": [],
   "source": []
  },
  {
   "cell_type": "code",
   "execution_count": null,
   "metadata": {},
   "outputs": [],
   "source": []
  },
  {
   "cell_type": "code",
   "execution_count": null,
   "metadata": {},
   "outputs": [],
   "source": []
  },
  {
   "cell_type": "code",
   "execution_count": null,
   "metadata": {},
   "outputs": [],
   "source": []
  },
  {
   "cell_type": "code",
   "execution_count": null,
   "metadata": {},
   "outputs": [],
   "source": []
  },
  {
   "cell_type": "code",
   "execution_count": null,
   "metadata": {},
   "outputs": [],
   "source": []
  },
  {
   "cell_type": "code",
   "execution_count": null,
   "metadata": {},
   "outputs": [],
   "source": []
  },
  {
   "cell_type": "code",
   "execution_count": null,
   "metadata": {},
   "outputs": [],
   "source": []
  },
  {
   "cell_type": "code",
   "execution_count": null,
   "metadata": {},
   "outputs": [],
   "source": []
  },
  {
   "cell_type": "code",
   "execution_count": null,
   "metadata": {},
   "outputs": [],
   "source": []
  },
  {
   "cell_type": "code",
   "execution_count": null,
   "metadata": {},
   "outputs": [],
   "source": []
  },
  {
   "cell_type": "code",
   "execution_count": null,
   "metadata": {},
   "outputs": [],
   "source": []
  },
  {
   "cell_type": "code",
   "execution_count": null,
   "metadata": {},
   "outputs": [],
   "source": []
  }
 ],
 "metadata": {
  "kernelspec": {
   "display_name": "Python 3",
   "language": "python",
   "name": "python3"
  },
  "language_info": {
   "codemirror_mode": {
    "name": "ipython",
    "version": 3
   },
   "file_extension": ".py",
   "mimetype": "text/x-python",
   "name": "python",
   "nbconvert_exporter": "python",
   "pygments_lexer": "ipython3",
   "version": "3.8.3"
  },
  "varInspector": {
   "cols": {
    "lenName": 16,
    "lenType": 16,
    "lenVar": 40
   },
   "kernels_config": {
    "python": {
     "delete_cmd_postfix": "",
     "delete_cmd_prefix": "del ",
     "library": "var_list.py",
     "varRefreshCmd": "print(var_dic_list())"
    },
    "r": {
     "delete_cmd_postfix": ") ",
     "delete_cmd_prefix": "rm(",
     "library": "var_list.r",
     "varRefreshCmd": "cat(var_dic_list()) "
    }
   },
   "types_to_exclude": [
    "module",
    "function",
    "builtin_function_or_method",
    "instance",
    "_Feature"
   ],
   "window_display": false
  }
 },
 "nbformat": 4,
 "nbformat_minor": 2
}
